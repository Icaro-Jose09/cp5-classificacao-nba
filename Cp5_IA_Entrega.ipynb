{
  "nbformat": 4,
  "nbformat_minor": 0,
  "metadata": {
    "colab": {
      "provenance": []
    },
    "kernelspec": {
      "name": "python3",
      "display_name": "Python 3"
    },
    "language_info": {
      "name": "python"
    }
  },
  "cells": [
    {
      "cell_type": "code",
      "source": [
        "CP5 - Modelo de Classificação com IA: Posições de Jogadores da NBA\n",
        "Objetivo: Desenvolver um modelo de classificação supervisionado de Machine Learning para prever a posição de um jogador da NBA com base em suas estatísticas de jogo.\n",
        "\n",
        "Aluno:Icaro jose dos Santos\n",
        "RM:562403\n"
      ],
      "metadata": {
        "id": "WqY_naXluzSb"
      },
      "execution_count": null,
      "outputs": []
    },
    {
      "cell_type": "code",
      "source": [
        "Etapa 1: Definição do Problema\n",
        "\n",
        "Objetivo de Classificação: O objetivo deste projeto é desenvolver um modelo de Machine Learning capaz de prever a posição principal de um jogador da NBA (ex: 'C' para Center, 'PF' para Power Forward, 'SF' para Small Forward, 'SG' para Shooting Guard, ou 'PG' para Point Guard) com base em suas estatísticas de desempenho em jogo (pontos, rebotes, assistências, tocos, roubos de bola, etc.).\n",
        "Tipo de Classificação: Este é um problema de classificação multiclasse.\n",
        "Justificativa da Escolha: O basquete moderno tem visto uma \"fluidificação\" das posições, onde as estatísticas dos jogadores muitas vezes se sobrepõem. Criar um modelo que possa classificar a posição de um jogador com base em seu desempenho real em quadra é um desafio relevante e interessante na análise esportiva."
      ],
      "metadata": {
        "id": "AQcCLSH5vHlR"
      },
      "execution_count": null,
      "outputs": []
    },
    {
      "cell_type": "code",
      "source": [
        "Etapa 2: Descrição e Carregamento do Dataset\n",
        "\n",
        "Origem e Fonte do Dado: Utilizo dataset \"2021-2022 NBA Player Stats\" (Temporada Regular).\n",
        "Fonte (Link): https://www.kaggle.com/datasets/vivovinco/nba-player-stats\n",
        "Requisitos: O dataset atende aos requisitos de ter mais de 300 registros (possui 812) e mais de 5 variáveis explicativas (possui 26)."
      ],
      "metadata": {
        "id": "LvWem9vYvL5H"
      },
      "execution_count": null,
      "outputs": []
    },
    {
      "cell_type": "code",
      "source": [
        "\n",
        "# Importar bibliotecas obrigatórias\n",
        "import pandas as pd\n",
        "import numpy as np\n",
        "import matplotlib.pyplot as plt\n",
        "import seaborn as sns\n",
        "from google.colab import files\n",
        "import io\n",
        "\n",
        "# Bibliotecas de Modelagem e Avaliação\n",
        "from sklearn.model_selection import train_test_split\n",
        "from sklearn.preprocessing import StandardScaler, LabelEncoder\n",
        "from sklearn.linear_model import LogisticRegression\n",
        "from sklearn.tree import DecisionTreeClassifier\n",
        "from sklearn.ensemble import RandomForestClassifier\n",
        "from sklearn.metrics import accuracy_score, classification_report, ConfusionMatrixDisplay\n",
        "\n",
        "print(\"Bibliotecas importadas com sucesso.\")"
      ],
      "metadata": {
        "colab": {
          "base_uri": "https://localhost:8080/"
        },
        "id": "ZUrO6WoFvRJS",
        "outputId": "411cf2d9-6b11-41a5-c0a4-21f4452bbad5"
      },
      "execution_count": 5,
      "outputs": [
        {
          "output_type": "stream",
          "name": "stdout",
          "text": [
            "Bibliotecas importadas com sucesso.\n"
          ]
        }
      ]
    },
    {
      "cell_type": "code",
      "source": [
        "# --- Carregamento dos Dados (Upload Manual) ---\n",
        "\n",
        "print(\"Por favor, faça o upload do arquivo da TEMPORADA REGULAR:\")\n",
        "print(\"-> 2021-2022 NBA Player Stats - Regular.csv <-\")\n",
        "uploaded = files.upload()\n",
        "\n",
        "try:\n",
        "    file_name = list(uploaded.keys())[0]\n",
        "    print(f\"\\nArquivo '{file_name}' carregado com sucesso.\")\n",
        "\n",
        "    # Ler os dados do arquivo carregado com encoding 'latin1'\n",
        "    data = pd.read_csv(io.BytesIO(uploaded[file_name]), sep=';', encoding='latin1')\n",
        "    print(\"Arquivo CSV lido com sucesso.\")\n",
        "\n",
        "    # --- Análise Exploratória Inicial ---\n",
        "\n",
        "    print(\"\\n--- 1. Head do Dataset ---\")\n",
        "    print(data.head())\n",
        "\n",
        "    print(\"\\n--- 2. Informações Gerais (Info) ---\")\n",
        "    data.info()\n",
        "\n",
        "    print(\"\\n--- 3. Verificando Classes da Variável-Alvo (Pos) ---\")\n",
        "    print(data['Pos'].value_counts())\n",
        "\n",
        "except Exception as e:\n",
        "    print(f\"\\nOcorreu um erro ao processar o arquivo: {e}\")"
      ],
      "metadata": {
        "colab": {
          "base_uri": "https://localhost:8080/",
          "height": 1000
        },
        "id": "x7_3IM7cvama",
        "outputId": "b2e55459-60d5-4788-def9-da33697bb7ee"
      },
      "execution_count": 6,
      "outputs": [
        {
          "output_type": "stream",
          "name": "stdout",
          "text": [
            "Por favor, faça o upload do arquivo da TEMPORADA REGULAR:\n",
            "-> 2021-2022 NBA Player Stats - Regular.csv <-\n"
          ]
        },
        {
          "output_type": "display_data",
          "data": {
            "text/plain": [
              "<IPython.core.display.HTML object>"
            ],
            "text/html": [
              "\n",
              "     <input type=\"file\" id=\"files-bedadfb7-3eb7-4988-b241-1f6ed6a5c053\" name=\"files[]\" multiple disabled\n",
              "        style=\"border:none\" />\n",
              "     <output id=\"result-bedadfb7-3eb7-4988-b241-1f6ed6a5c053\">\n",
              "      Upload widget is only available when the cell has been executed in the\n",
              "      current browser session. Please rerun this cell to enable.\n",
              "      </output>\n",
              "      <script>// Copyright 2017 Google LLC\n",
              "//\n",
              "// Licensed under the Apache License, Version 2.0 (the \"License\");\n",
              "// you may not use this file except in compliance with the License.\n",
              "// You may obtain a copy of the License at\n",
              "//\n",
              "//      http://www.apache.org/licenses/LICENSE-2.0\n",
              "//\n",
              "// Unless required by applicable law or agreed to in writing, software\n",
              "// distributed under the License is distributed on an \"AS IS\" BASIS,\n",
              "// WITHOUT WARRANTIES OR CONDITIONS OF ANY KIND, either express or implied.\n",
              "// See the License for the specific language governing permissions and\n",
              "// limitations under the License.\n",
              "\n",
              "/**\n",
              " * @fileoverview Helpers for google.colab Python module.\n",
              " */\n",
              "(function(scope) {\n",
              "function span(text, styleAttributes = {}) {\n",
              "  const element = document.createElement('span');\n",
              "  element.textContent = text;\n",
              "  for (const key of Object.keys(styleAttributes)) {\n",
              "    element.style[key] = styleAttributes[key];\n",
              "  }\n",
              "  return element;\n",
              "}\n",
              "\n",
              "// Max number of bytes which will be uploaded at a time.\n",
              "const MAX_PAYLOAD_SIZE = 100 * 1024;\n",
              "\n",
              "function _uploadFiles(inputId, outputId) {\n",
              "  const steps = uploadFilesStep(inputId, outputId);\n",
              "  const outputElement = document.getElementById(outputId);\n",
              "  // Cache steps on the outputElement to make it available for the next call\n",
              "  // to uploadFilesContinue from Python.\n",
              "  outputElement.steps = steps;\n",
              "\n",
              "  return _uploadFilesContinue(outputId);\n",
              "}\n",
              "\n",
              "// This is roughly an async generator (not supported in the browser yet),\n",
              "// where there are multiple asynchronous steps and the Python side is going\n",
              "// to poll for completion of each step.\n",
              "// This uses a Promise to block the python side on completion of each step,\n",
              "// then passes the result of the previous step as the input to the next step.\n",
              "function _uploadFilesContinue(outputId) {\n",
              "  const outputElement = document.getElementById(outputId);\n",
              "  const steps = outputElement.steps;\n",
              "\n",
              "  const next = steps.next(outputElement.lastPromiseValue);\n",
              "  return Promise.resolve(next.value.promise).then((value) => {\n",
              "    // Cache the last promise value to make it available to the next\n",
              "    // step of the generator.\n",
              "    outputElement.lastPromiseValue = value;\n",
              "    return next.value.response;\n",
              "  });\n",
              "}\n",
              "\n",
              "/**\n",
              " * Generator function which is called between each async step of the upload\n",
              " * process.\n",
              " * @param {string} inputId Element ID of the input file picker element.\n",
              " * @param {string} outputId Element ID of the output display.\n",
              " * @return {!Iterable<!Object>} Iterable of next steps.\n",
              " */\n",
              "function* uploadFilesStep(inputId, outputId) {\n",
              "  const inputElement = document.getElementById(inputId);\n",
              "  inputElement.disabled = false;\n",
              "\n",
              "  const outputElement = document.getElementById(outputId);\n",
              "  outputElement.innerHTML = '';\n",
              "\n",
              "  const pickedPromise = new Promise((resolve) => {\n",
              "    inputElement.addEventListener('change', (e) => {\n",
              "      resolve(e.target.files);\n",
              "    });\n",
              "  });\n",
              "\n",
              "  const cancel = document.createElement('button');\n",
              "  inputElement.parentElement.appendChild(cancel);\n",
              "  cancel.textContent = 'Cancel upload';\n",
              "  const cancelPromise = new Promise((resolve) => {\n",
              "    cancel.onclick = () => {\n",
              "      resolve(null);\n",
              "    };\n",
              "  });\n",
              "\n",
              "  // Wait for the user to pick the files.\n",
              "  const files = yield {\n",
              "    promise: Promise.race([pickedPromise, cancelPromise]),\n",
              "    response: {\n",
              "      action: 'starting',\n",
              "    }\n",
              "  };\n",
              "\n",
              "  cancel.remove();\n",
              "\n",
              "  // Disable the input element since further picks are not allowed.\n",
              "  inputElement.disabled = true;\n",
              "\n",
              "  if (!files) {\n",
              "    return {\n",
              "      response: {\n",
              "        action: 'complete',\n",
              "      }\n",
              "    };\n",
              "  }\n",
              "\n",
              "  for (const file of files) {\n",
              "    const li = document.createElement('li');\n",
              "    li.append(span(file.name, {fontWeight: 'bold'}));\n",
              "    li.append(span(\n",
              "        `(${file.type || 'n/a'}) - ${file.size} bytes, ` +\n",
              "        `last modified: ${\n",
              "            file.lastModifiedDate ? file.lastModifiedDate.toLocaleDateString() :\n",
              "                                    'n/a'} - `));\n",
              "    const percent = span('0% done');\n",
              "    li.appendChild(percent);\n",
              "\n",
              "    outputElement.appendChild(li);\n",
              "\n",
              "    const fileDataPromise = new Promise((resolve) => {\n",
              "      const reader = new FileReader();\n",
              "      reader.onload = (e) => {\n",
              "        resolve(e.target.result);\n",
              "      };\n",
              "      reader.readAsArrayBuffer(file);\n",
              "    });\n",
              "    // Wait for the data to be ready.\n",
              "    let fileData = yield {\n",
              "      promise: fileDataPromise,\n",
              "      response: {\n",
              "        action: 'continue',\n",
              "      }\n",
              "    };\n",
              "\n",
              "    // Use a chunked sending to avoid message size limits. See b/62115660.\n",
              "    let position = 0;\n",
              "    do {\n",
              "      const length = Math.min(fileData.byteLength - position, MAX_PAYLOAD_SIZE);\n",
              "      const chunk = new Uint8Array(fileData, position, length);\n",
              "      position += length;\n",
              "\n",
              "      const base64 = btoa(String.fromCharCode.apply(null, chunk));\n",
              "      yield {\n",
              "        response: {\n",
              "          action: 'append',\n",
              "          file: file.name,\n",
              "          data: base64,\n",
              "        },\n",
              "      };\n",
              "\n",
              "      let percentDone = fileData.byteLength === 0 ?\n",
              "          100 :\n",
              "          Math.round((position / fileData.byteLength) * 100);\n",
              "      percent.textContent = `${percentDone}% done`;\n",
              "\n",
              "    } while (position < fileData.byteLength);\n",
              "  }\n",
              "\n",
              "  // All done.\n",
              "  yield {\n",
              "    response: {\n",
              "      action: 'complete',\n",
              "    }\n",
              "  };\n",
              "}\n",
              "\n",
              "scope.google = scope.google || {};\n",
              "scope.google.colab = scope.google.colab || {};\n",
              "scope.google.colab._files = {\n",
              "  _uploadFiles,\n",
              "  _uploadFilesContinue,\n",
              "};\n",
              "})(self);\n",
              "</script> "
            ]
          },
          "metadata": {}
        },
        {
          "output_type": "stream",
          "name": "stdout",
          "text": [
            "Saving 2021-2022 NBA Player Stats - Regular.csv to 2021-2022 NBA Player Stats - Regular.csv\n",
            "\n",
            "Arquivo '2021-2022 NBA Player Stats - Regular.csv' carregado com sucesso.\n",
            "Arquivo CSV lido com sucesso.\n",
            "\n",
            "--- 1. Head do Dataset ---\n",
            "   Rk             Player Pos  Age   Tm   G  GS    MP   FG   FGA  ...    FT%  \\\n",
            "0   1   Precious Achiuwa   C   22  TOR  73  28  23.6  3.6   8.3  ...  0.595   \n",
            "1   2       Steven Adams   C   28  MEM  76  75  26.3  2.8   5.1  ...  0.543   \n",
            "2   3        Bam Adebayo   C   24  MIA  56  56  32.6  7.3  13.0  ...  0.753   \n",
            "3   4       Santi Aldama  PF   21  MEM  32   0  11.3  1.7   4.1  ...  0.625   \n",
            "4   5  LaMarcus Aldridge   C   36  BRK  47  12  22.3  5.4   9.7  ...  0.873   \n",
            "\n",
            "   ORB  DRB   TRB  AST  STL  BLK  TOV   PF   PTS  \n",
            "0  2.0  4.5   6.5  1.1  0.5  0.6  1.2  2.1   9.1  \n",
            "1  4.6  5.4  10.0  3.4  0.9  0.8  1.5  2.0   6.9  \n",
            "2  2.4  7.6  10.1  3.4  1.4  0.8  2.6  3.1  19.1  \n",
            "3  1.0  1.7   2.7  0.7  0.2  0.3  0.5  1.1   4.1  \n",
            "4  1.6  3.9   5.5  0.9  0.3  1.0  0.9  1.7  12.9  \n",
            "\n",
            "[5 rows x 30 columns]\n",
            "\n",
            "--- 2. Informações Gerais (Info) ---\n",
            "<class 'pandas.core.frame.DataFrame'>\n",
            "RangeIndex: 812 entries, 0 to 811\n",
            "Data columns (total 30 columns):\n",
            " #   Column  Non-Null Count  Dtype  \n",
            "---  ------  --------------  -----  \n",
            " 0   Rk      812 non-null    int64  \n",
            " 1   Player  812 non-null    object \n",
            " 2   Pos     812 non-null    object \n",
            " 3   Age     812 non-null    int64  \n",
            " 4   Tm      812 non-null    object \n",
            " 5   G       812 non-null    int64  \n",
            " 6   GS      812 non-null    int64  \n",
            " 7   MP      812 non-null    float64\n",
            " 8   FG      812 non-null    float64\n",
            " 9   FGA     812 non-null    float64\n",
            " 10  FG%     812 non-null    float64\n",
            " 11  3P      812 non-null    float64\n",
            " 12  3PA     812 non-null    float64\n",
            " 13  3P%     812 non-null    float64\n",
            " 14  2P      812 non-null    float64\n",
            " 15  2PA     812 non-null    float64\n",
            " 16  2P%     812 non-null    float64\n",
            " 17  eFG%    812 non-null    float64\n",
            " 18  FT      812 non-null    float64\n",
            " 19  FTA     812 non-null    float64\n",
            " 20  FT%     812 non-null    float64\n",
            " 21  ORB     812 non-null    float64\n",
            " 22  DRB     812 non-null    float64\n",
            " 23  TRB     812 non-null    float64\n",
            " 24  AST     812 non-null    float64\n",
            " 25  STL     812 non-null    float64\n",
            " 26  BLK     812 non-null    float64\n",
            " 27  TOV     812 non-null    float64\n",
            " 28  PF      812 non-null    float64\n",
            " 29  PTS     812 non-null    float64\n",
            "dtypes: float64(23), int64(4), object(3)\n",
            "memory usage: 190.4+ KB\n",
            "\n",
            "--- 3. Verificando Classes da Variável-Alvo (Pos) ---\n",
            "Pos\n",
            "SG       199\n",
            "SF       158\n",
            "PG       155\n",
            "PF       152\n",
            "C        130\n",
            "SG-SF      5\n",
            "SF-SG      5\n",
            "SG-PG      4\n",
            "C-PF       2\n",
            "PG-SG      1\n",
            "PF-SF      1\n",
            "Name: count, dtype: int64\n"
          ]
        }
      ]
    },
    {
      "cell_type": "code",
      "source": [
        "(CÉLULA 6 - TEXTO)\n",
        "\n",
        "Etapa 3: Pré-processamento dos Dados\n",
        "\n",
        "O pré-processamento seguirá as seguintes etapas:\n",
        "\n",
        "Tratamento de Valores Ausentes: A saída data.info() mostrou que não há valores ausentes (non-null).\n",
        "\n",
        "Limpeza da Variável-Alvo: O value_counts() mostrou posições híbridas (ex: 'SG-SF'). Vamos filtrar o dataset para manter apenas as 5 posições principais.\n",
        "\n",
        "Seleção de Features (Variáveis): X será composto pelas 26 colunas de estatísticas. y será a coluna Pos.\n",
        "\n",
        "Encoding de Variáveis Categóricas: A variável-alvo y ('Pos') será transformada de texto para números (0, 1, 2...).\n",
        "\n",
        "Padronização: As features X serão padronizadas usando StandardScaler para que todas tenham a mesma escala (média 0, desvio padrão 1), o que é crucial para modelos como Regressão Logística.\n",
        "\n",
        "Divisão Treino/Teste: Os dados serão divididos em 70% para treino e 30% para teste."
      ],
      "metadata": {
        "id": "j6a8O7eJvfL7"
      },
      "execution_count": null,
      "outputs": []
    },
    {
      "cell_type": "code",
      "source": [
        "# --- Início do Pré-processamento ---\n",
        "\n",
        "# 3.1. Limpeza da Variável-Alvo (Pos)\n",
        "posicoes_principais = ['SG', 'SF', 'PG', 'PF', 'C']\n",
        "data_limpo = data[data['Pos'].isin(posicoes_principais)].copy()\n",
        "print(f\"Dataset original: {len(data)} linhas. | Dataset limpo: {len(data_limpo)} linhas.\")\n",
        "\n",
        "# 3.2. Definição de X (Features) e y (Target)\n",
        "coluna_target = 'Pos'\n",
        "colunas_features = [\n",
        "    'Age', 'G', 'GS', 'MP', 'FG', 'FGA', 'FG%', '3P', '3PA', '3P%',\n",
        "    '2P', '2PA', '2P%', 'eFG%', 'FT', 'FTA', 'FT%', 'ORB', 'DRB',\n",
        "    'TRB', 'AST', 'STL', 'BLK', 'TOV', 'PF', 'PTS'\n",
        "]\n",
        "\n",
        "X = data_limpo[colunas_features]\n",
        "y = data_limpo[coluna_target]\n",
        "\n",
        "print(f\"Formato de X (features): {X.shape}\")\n",
        "print(f\"Formato de y (target): {y.shape}\")\n",
        "\n",
        "# 3.3. Encoding da Variável-Alvo (y)\n",
        "le = LabelEncoder()\n",
        "y_encoded = le.fit_transform(y)\n",
        "print(\"\\nClasses originais:\", le.classes_)\n",
        "print(\"Classes transformadas (exemplo):\", y_encoded[:5])\n",
        "\n",
        "# 3.4. Padronização das Features (X)\n",
        "scaler = StandardScaler()\n",
        "X_scaled = scaler.fit_transform(X)\n",
        "\n",
        "# 3.5. Divisão Treino/Teste (Train/Test Split)\n",
        "X_train, X_test, y_train, y_test = train_test_split(\n",
        "    X_scaled,\n",
        "    y_encoded,\n",
        "    test_size=0.3,    # 30% para teste\n",
        "    random_state=42,  # Para reprodutibilidade\n",
        "    stratify=y_encoded # Garante a proporção das classes\n",
        ")\n",
        "\n",
        "print(\"\\n--- Dados Prontos para Modelagem ---\")\n",
        "print(f\"Tamanho do treino (X_train): {X_train.shape}\")\n",
        "print(f\"Tamanho do teste (X_test): {X_test.shape}\")"
      ],
      "metadata": {
        "colab": {
          "base_uri": "https://localhost:8080/"
        },
        "id": "LV00ccuhvrZu",
        "outputId": "b0ab8229-58ba-434c-d101-3dbc2dc8908a"
      },
      "execution_count": 8,
      "outputs": [
        {
          "output_type": "stream",
          "name": "stdout",
          "text": [
            "Dataset original: 812 linhas. | Dataset limpo: 794 linhas.\n",
            "Formato de X (features): (794, 26)\n",
            "Formato de y (target): (794,)\n",
            "\n",
            "Classes originais: ['C' 'PF' 'PG' 'SF' 'SG']\n",
            "Classes transformadas (exemplo): [0 0 0 1 0]\n",
            "\n",
            "--- Dados Prontos para Modelagem ---\n",
            "Tamanho do treino (X_train): (555, 26)\n",
            "Tamanho do teste (X_test): (239, 26)\n"
          ]
        }
      ]
    },
    {
      "cell_type": "code",
      "source": [
        "Etapa 4: Modelagem e Etapa 5: Avaliação do Modelo\n",
        "\n",
        "Conforme os requisitos, vamos testar 3 modelos de classificação:\n",
        "Regressão Logística\n",
        "Árvore de Decisão\n",
        "Random Forest\n",
        "E utilizaremos 3 métricas de avaliação:\n",
        "Acurácia\n",
        "Relatório de Classificação (Precisão , Recall , F1-Score )\n",
        "\n",
        "\n",
        "Matriz de Confusão"
      ],
      "metadata": {
        "colab": {
          "base_uri": "https://localhost:8080/",
          "height": 105
        },
        "id": "M7_WxsNLvwDJ",
        "outputId": "a287e143-1443-4c16-ada8-c30221f1b903"
      },
      "execution_count": 9,
      "outputs": [
        {
          "output_type": "error",
          "ename": "SyntaxError",
          "evalue": "invalid syntax (ipython-input-143168550.py, line 1)",
          "traceback": [
            "\u001b[0;36m  File \u001b[0;32m\"/tmp/ipython-input-143168550.py\"\u001b[0;36m, line \u001b[0;32m1\u001b[0m\n\u001b[0;31m    Etapa 4: Modelagem e Etapa 5: Avaliação do Modelo\u001b[0m\n\u001b[0m          ^\u001b[0m\n\u001b[0;31mSyntaxError\u001b[0m\u001b[0;31m:\u001b[0m invalid syntax\n"
          ]
        }
      ]
    },
    {
      "cell_type": "code",
      "source": [
        "# Guardar os nomes das classes para os relatórios\n",
        "target_names = le.classes_\n",
        "print(f\"Nomes das classes para avaliação: {target_names}\")\n",
        "print(\"=\"*60)\n",
        "\n",
        "# --- 1. Modelo: Regressão Logística ---\n",
        "print(\"\\n--- 1. Regressão Logística ---\")\n",
        "model_lr = LogisticRegression(multi_class='ovr', max_iter=1000, random_state=42)\n",
        "model_lr.fit(X_train, y_train)\n",
        "y_pred_lr = model_lr.predict(X_test)\n",
        "\n",
        "print(f\"Acurácia: {accuracy_score(y_test, y_pred_lr):.4f}\")\n",
        "print(\"\\nRelatório de Classificação:\")\n",
        "print(classification_report(y_test, y_pred_lr, target_names=target_names))\n",
        "\n",
        "ConfusionMatrixDisplay.from_predictions(y_test, y_pred_lr, display_labels=target_names)\n",
        "plt.title('Matriz de Confusão - Regressão Logística')\n",
        "plt.xticks(rotation=45)\n",
        "plt.show()\n",
        "\n",
        "print(\"=\"*60)\n",
        "\n",
        "# --- 2. Modelo: Árvore de Decisão ---\n",
        "print(\"\\n--- 2. Árvore de Decisão ---\")\n",
        "model_dt = DecisionTreeClassifier(random_state=42)\n",
        "model_dt.fit(X_train, y_train)\n",
        "y_pred_dt = model_dt.predict(X_test)\n",
        "\n",
        "print(f\"Acurácia: {accuracy_score(y_test, y_pred_dt):.4f}\")\n",
        "print(\"\\nRelatório de Classificação:\")\n",
        "print(classification_report(y_test, y_pred_dt, target_names=target_names))\n",
        "\n",
        "ConfusionMatrixDisplay.from_predictions(y_test, y_pred_dt, display_labels=target_names)\n",
        "plt.title('Matriz de Confusão - Árvore de Decisão')\n",
        "plt.xticks(rotation=45)\n",
        "plt.show()\n",
        "\n",
        "print(\"=\"*60)\n",
        "\n",
        "# --- 3. Modelo: Random Forest ---\n",
        "print(\"\\n--- 3. Random Forest ---\")\n",
        "model_rf = RandomForestClassifier(random_state=42)\n",
        "model_rf.fit(X_train, y_train)\n",
        "y_pred_rf = model_rf.predict(X_test)\n",
        "\n",
        "print(f\"Acurácia: {accuracy_score(y_test, y_pred_rf):.4f}\")\n",
        "print(\"\\nRelatório de Classificação:\")\n",
        "print(classification_report(y_test, y_pred_rf, target_names=target_names))\n",
        "\n",
        "ConfusionMatrixDisplay.from_predictions(y_test, y_pred_rf, display_labels=target_names)\n",
        "plt.title('Matriz de Confusão - Random Forest')\n",
        "plt.xticks(rotation=45)\n",
        "plt.show()"
      ],
      "metadata": {
        "colab": {
          "base_uri": "https://localhost:8080/",
          "height": 1000
        },
        "id": "gQ686VD6vych",
        "outputId": "9fb2821e-df61-4ac1-9f70-f77c4892b975"
      },
      "execution_count": 10,
      "outputs": [
        {
          "output_type": "stream",
          "name": "stdout",
          "text": [
            "Nomes das classes para avaliação: ['C' 'PF' 'PG' 'SF' 'SG']\n",
            "============================================================\n",
            "\n",
            "--- 1. Regressão Logística ---\n",
            "Acurácia: 0.5607\n",
            "\n",
            "Relatório de Classificação:\n",
            "              precision    recall  f1-score   support\n",
            "\n",
            "           C       0.63      0.85      0.73        39\n",
            "          PF       0.47      0.33      0.38        46\n",
            "          PG       0.71      0.77      0.73        47\n",
            "          SF       0.43      0.32      0.37        47\n",
            "          SG       0.51      0.58      0.54        60\n",
            "\n",
            "    accuracy                           0.56       239\n",
            "   macro avg       0.55      0.57      0.55       239\n",
            "weighted avg       0.54      0.56      0.55       239\n",
            "\n"
          ]
        },
        {
          "output_type": "stream",
          "name": "stderr",
          "text": [
            "/usr/local/lib/python3.12/dist-packages/sklearn/linear_model/_logistic.py:1256: FutureWarning: 'multi_class' was deprecated in version 1.5 and will be removed in 1.7. Use OneVsRestClassifier(LogisticRegression(..)) instead. Leave it to its default value to avoid this warning.\n",
            "  warnings.warn(\n"
          ]
        },
        {
          "output_type": "display_data",
          "data": {
            "text/plain": [
              "<Figure size 640x480 with 2 Axes>"
            ],
            "image/png": "[encoded data removed]"
          },
          "metadata": {}
        },
        {
          "output_type": "stream",
          "name": "stdout",
          "text": [
            "============================================================\n",
            "\n",
            "--- 2. Árvore de Decisão ---\n",
            "Acurácia: 0.4184\n",
            "\n",
            "Relatório de Classificação:\n",
            "              precision    recall  f1-score   support\n",
            "\n",
            "           C       0.55      0.59      0.57        39\n",
            "          PF       0.29      0.33      0.31        46\n",
            "          PG       0.49      0.60      0.54        47\n",
            "          SF       0.25      0.21      0.23        47\n",
            "          SG       0.50      0.40      0.44        60\n",
            "\n",
            "    accuracy                           0.42       239\n",
            "   macro avg       0.42      0.42      0.42       239\n",
            "weighted avg       0.42      0.42      0.41       239\n",
            "\n"
          ]
        },
        {
          "output_type": "display_data",
          "data": {
            "text/plain": [
              "<Figure size 640x480 with 2 Axes>"
            ],
            "image/png": "[encoded data removed]"
          },
          "metadata": {}
        },
        {
          "output_type": "stream",
          "name": "stdout",
          "text": [
            "============================================================\n",
            "\n",
            "--- 3. Random Forest ---\n",
            "Acurácia: 0.5649\n",
            "\n",
            "Relatório de Classificação:\n",
            "              precision    recall  f1-score   support\n",
            "\n",
            "           C       0.70      0.77      0.73        39\n",
            "          PF       0.46      0.46      0.46        46\n",
            "          PG       0.66      0.81      0.72        47\n",
            "          SF       0.41      0.32      0.36        47\n",
            "          SG       0.56      0.52      0.54        60\n",
            "\n",
            "    accuracy                           0.56       239\n",
            "   macro avg       0.56      0.57      0.56       239\n",
            "weighted avg       0.55      0.56      0.56       239\n",
            "\n"
          ]
        },
        {
          "output_type": "display_data",
          "data": {
            "text/plain": [
              "<Figure size 640x480 with 2 Axes>"
            ],
            "image/png": "[encoded data removed]"
          },
          "metadata": {}
        }
      ]
    },
    {
      "cell_type": "code",
      "source": [
        "Etapa 6: Interpretação dos Resultados\n",
        "\n",
        "Nesta etapa, realizamos a análise comparativa e justificamos o modelo final.\n",
        "\n",
        "1. Análise Comparativa\n",
        "Comparamos os modelos usando a Acurácia e o F1-Score Ponderado (Weighted Avg), ideal para classificação multiclasse.\n",
        "\n",
        "Modelo,Acurácia,F1-Score (Weighted Avg)\n",
        "Random Forest,\"0.5649 (56,5%)\",0.56\n",
        "Regressão Logística,\"0.5607 (56,1%)\",0.55\n",
        "Árvore de Decisão,\"0.4184 (41,8%)\",0.41\n",
        "\n",
        "Modelo\tAcurácia\tF1-Score (Weighted Avg)\n",
        "Random Forest\t0.5649 (56,5%)\t0.56\n",
        "Regressão Logística\t0.5607 (56,1%)\t0.55\n",
        "Árvore de Decisão\t0.4184 (41,8%)\t0.41\n",
        "Random Forest: Apresentou o melhor desempenho geral, com a maior Acurácia e F1-Score.\n",
        "Regressão Logística: Desempenho muito similar ao Random Forest, provando ser um modelo robusto.\n",
        "Árvore de Decisão: Desempenho significativamente inferior, indicando que uma única árvore não captura a complexidade do problema, possivelmente sofrendo overfitting.\n",
        "2. Justificativa do Modelo Final Escolhido\n",
        "O modelo final escolhido é o Random Forest.\n",
        "\n",
        "Justificativa: O Random Forest (Floresta Aleatória) alcançou os melhores resultados nas métricas de Acurácia (56,5%) e F1-Score Ponderado (0.56) entre os três algoritmos testados. Por ser um modelo de ensemble (que combina várias Árvores de Decisão), ele é inerentemente mais robusto e menos propenso a overfitting do que uma Árvore de Decisão única, o que foi confirmado pelos resultados.\n"
      ],
      "metadata": {
        "id": "OjZ915UZv3e6"
      },
      "execution_count": null,
      "outputs": []
    },
    {
      "cell_type": "code",
      "source": [
        "Etapa 7: Conclusão\n",
        "\n",
        "Concluindo o projeto\n",
        "\n",
        "Principais Aprendizados\n",
        "O pipeline completo de ciência de dados (exploração, preparação, modelagem e avaliação) foi aplicado com sucesso.\n",
        "O pré-processamento, especialmente a Padronização (StandardScaler), foi fundamental para o bom desempenho da Regressão Logística.\n",
        "Foi comprovado que modelos de ensemble (Random Forest) tendem a ser mais precisos e robustos do que modelos individuais (Árvore de Decisão) para problemas complexos.\n",
        "A análise de dados esportivos é desafiadora, pois as estatísticas nem sempre se traduzem diretamente em classificações fixas (como posições).\n",
        "Possíveis Melhorias Futuras\n",
        "Testar mais modelos: Incluir modelos obrigatórios que não foram testados, como SVM , K-Vizinhos Mais Próximos (KNN) ou LDA.\n",
        "\n",
        "\n",
        "Engenharia de Features: Criar novas features que possam ajudar o modelo (ex: \"pontos por minuto\", \"relação assistência/turnover\").\n",
        "Otimização de Hiperparâmetros: Usar técnicas como GridSearchCV ou RandomizedSearchCV para encontrar a melhor combinação de configurações para o Random Forest, o que provavelmente melhoraria sua acurácia.\n"
      ],
      "metadata": {
        "id": "uJ8uQo6owPFE"
      },
      "execution_count": null,
      "outputs": []
    }
  ]
}